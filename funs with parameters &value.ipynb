{
 "cells": [
  {
   "cell_type": "code",
   "execution_count": null,
   "id": "4df2a07a-d849-43e8-ba4b-9b3fedf59548",
   "metadata": {},
   "outputs": [],
   "source": [
    "# functiond with parameters\n",
    "def add(student1,student2):\n",
    "    return student1+student2\n",
    "student1=int(input(\"enter the money: \"))\n",
    "student2=int(input(\"enter the money: \"))\n",
    "total=add(student1, student2)\n",
    "print(\"total amount:\", total)"
   ]
  }
 ],
 "metadata": {
  "kernelspec": {
   "display_name": "",
   "name": ""
  },
  "language_info": {
   "name": ""
  }
 },
 "nbformat": 4,
 "nbformat_minor": 5
}
