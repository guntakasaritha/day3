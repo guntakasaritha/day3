{
 "cells": [
  {
   "cell_type": "code",
   "execution_count": null,
   "id": "14a96218-a6d7-4be2-98ee-f27a2eac03d3",
   "metadata": {},
   "outputs": [],
   "source": [
    "def value():\n",
    "    return 3.14159\n",
    "result=value()\n",
    "print(\"value in the function is\", result)"
   ]
  }
 ],
 "metadata": {
  "kernelspec": {
   "display_name": "",
   "name": ""
  },
  "language_info": {
   "name": ""
  }
 },
 "nbformat": 4,
 "nbformat_minor": 5
}
