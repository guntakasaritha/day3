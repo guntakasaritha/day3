{
 "cells": [
  {
   "cell_type": "code",
   "execution_count": null,
   "id": "7f623420-3da0-4563-892b-f8d8f76f6b56",
   "metadata": {},
   "outputs": [],
   "source": [
    "def hi(): #callee\n",
    "    print(\"hello students\")  # response of callee\n",
    "    print(\"rahul \"*5)\n",
    "hi() #caller   "
   ]
  }
 ],
 "metadata": {
  "kernelspec": {
   "display_name": "",
   "name": ""
  },
  "language_info": {
   "name": ""
  }
 },
 "nbformat": 4,
 "nbformat_minor": 5
}
