{
 "cells": [
  {
   "cell_type": "code",
   "execution_count": null,
   "id": "0b49c204-d72f-494c-b0ae-8fdebfa78025",
   "metadata": {},
   "outputs": [],
   "source": [
    "def get_name():\n",
    "    name= input(\"enter your name: \")\n",
    "    return name\n",
    "username= get_name()\n",
    "print(\"saritha\", username)"
   ]
  }
 ],
 "metadata": {
  "kernelspec": {
   "display_name": "",
   "name": ""
  },
  "language_info": {
   "name": ""
  }
 },
 "nbformat": 4,
 "nbformat_minor": 5
}
