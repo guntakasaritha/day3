{
 "cells": [
  {
   "cell_type": "code",
   "execution_count": null,
   "id": "e761f4a7-0456-4524-bb99-5cf98777c4b1",
   "metadata": {},
   "outputs": [],
   "source": [
    "def  cal(a,b):\n",
    "    return a+b, a-b, a*b, a/b\n",
    "a= int(input(\"enter a:\" ))\n",
    "b= int(input(\"enter b:\" ))\n",
    "sum, diff, pro, div= cal(a,b)\n",
    "print(\"sum=\", sum)\n",
    "print(\"subtract=\", diff)\n",
    "print(\"product=\", pro)\n",
    "print(\"divide=\",div)"
   ]
  }
 ],
 "metadata": {
  "kernelspec": {
   "display_name": "",
   "name": ""
  },
  "language_info": {
   "name": ""
  }
 },
 "nbformat": 4,
 "nbformat_minor": 5
}
