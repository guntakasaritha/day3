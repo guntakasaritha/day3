{
 "cells": [
  {
   "cell_type": "code",
   "execution_count": null,
   "id": "bc00ea07-3ba6-4e0f-8262-df708e2f2f3e",
   "metadata": {},
   "outputs": [],
   "source": [
    "def max_min(a,b,c):\n",
    "     return max(a,b,c), min(a,b,c)\n",
    " a=int(input(\"enter a:\"))\n",
    " b=int(input(\"enter b:\"))\n",
    " c=int(input(\"enter c:\"))\n",
    " maxi, mini= max_min(a,b,c)\n",
    " print(\"maximum:\", maxi)\n",
    " print(\"minimum:\", mini)"
   ]
  }
 ],
 "metadata": {
  "kernelspec": {
   "display_name": "",
   "name": ""
  },
  "language_info": {
   "name": ""
  }
 },
 "nbformat": 4,
 "nbformat_minor": 5
}
