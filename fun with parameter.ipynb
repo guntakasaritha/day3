{
 "cells": [
  {
   "cell_type": "code",
   "execution_count": null,
   "id": "1af469f0-7675-4ee8-a7fb-2c66de0d858c",
   "metadata": {},
   "outputs": [],
   "source": [
    "# functiond with parameters/return value\n",
    "def add(student1,student2):\n",
    "    print(\"total:\",student1+student2)\n",
    "student1= int(input(\"enter the money: \"))\n",
    "student2= int(input(\"enter the money: \"))\n",
    "add(student1, student2)\n"
   ]
  }
 ],
 "metadata": {
  "kernelspec": {
   "display_name": "",
   "name": ""
  },
  "language_info": {
   "name": ""
  }
 },
 "nbformat": 4,
 "nbformat_minor": 5
}
