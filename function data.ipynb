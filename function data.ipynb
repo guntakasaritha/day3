{
 "cells": [
  {
   "cell_type": "code",
   "execution_count": null,
   "id": "b03c5813-4c2b-4918-8949-517fc7a67af8",
   "metadata": {},
   "outputs": [],
   "source": [
    "def hi(name='guest'):\n",
    "    print(\"hello\", name)\n",
    "a=input(\"enter data:\")\n",
    "hi(a)\n"
   ]
  }
 ],
 "metadata": {
  "kernelspec": {
   "display_name": "",
   "name": ""
  },
  "language_info": {
   "name": ""
  }
 },
 "nbformat": 4,
 "nbformat_minor": 5
}
